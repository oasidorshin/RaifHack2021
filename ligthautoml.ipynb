{
 "cells": [
  {
   "cell_type": "code",
   "execution_count": null,
   "metadata": {},
   "outputs": [],
   "source": [
    "import numpy as np\n",
    "import pandas as pd\n",
    "\n",
    "from data import preprocess_data, postprocessing\n",
    "from func import deviation_metric, get_timestamp\n",
    "\n",
    "from lightautoml.automl.presets.tabular_presets import TabularUtilizedAutoML\n",
    "from lightautoml.tasks import Task\n",
    "\n",
    "train = pd.read_csv('data/train.csv')\n",
    "test = pd.read_csv('data/test.csv')"
   ]
  },
  {
   "cell_type": "code",
   "execution_count": null,
   "metadata": {},
   "outputs": [],
   "source": [
    "kwargs = {'cluster': 0.025, 'clean_floor_num': True, 'clean_region_city': True, 'remove_type_0': True}\n",
    "train_pre, test_pre, num_columns, cat_columns, target = preprocess_data(train, test, **kwargs)\n",
    "\n",
    "columns = num_columns + cat_columns + [target]\n",
    "\n",
    "test_pre[columns]"
   ]
  },
  {
   "cell_type": "code",
   "execution_count": null,
   "metadata": {},
   "outputs": [],
   "source": [
    "N_THREADS = 12 # threads count\n",
    "N_FOLDS = 5 # folds count for AutoML\n",
    "RANDOM_STATE = 55 # fixed random state\n",
    "TIMEOUT = 1800 # Time in seconds for automl run"
   ]
  },
  {
   "cell_type": "code",
   "execution_count": null,
   "metadata": {},
   "outputs": [],
   "source": [
    "task = Task('reg', loss = 'rmsle', metric = deviation_metric)\n",
    "\n",
    "roles = {\n",
    "    'target': target,\n",
    "    'category': cat_columns\n",
    "    'numeric': num_columns\n",
    "}"
   ]
  },
  {
   "cell_type": "code",
   "execution_count": null,
   "metadata": {},
   "outputs": [],
   "source": [
    "automl = TabularUtilizedAutoML(task = task,\n",
    "                               timeout = TIMEOUT,\n",
    "                               cpu_limit = N_THREADS,\n",
    "                               reader_params = {'n_jobs': N_THREADS,\n",
    "                                                'cv': N_FOLDS,\n",
    "                                                'random_state': RANDOM_STATE})\n",
    "\n",
    "oof_pred = automl.fit_predict(train_pre[columns], roles = roles)"
   ]
  },
  {
   "cell_type": "code",
   "execution_count": null,
   "metadata": {},
   "outputs": [],
   "source": [
    "output = pd.DataFrame({'id': test_pre['id'],\n",
    "                       'per_square_meter_price': automl.predict(test_pre[columns]).data[:, 0]})\n",
    "\n",
    "output = postprocess(output, target)\n",
    "output.to_csv(f'lam-{get_timestamp()}.csv', index=False)"
   ]
  }
 ],
 "metadata": {
  "kernelspec": {
   "display_name": "Python 3 (ipykernel)",
   "language": "python",
   "name": "python3"
  },
  "language_info": {
   "codemirror_mode": {
    "name": "ipython",
    "version": 3
   },
   "file_extension": ".py",
   "mimetype": "text/x-python",
   "name": "python",
   "nbconvert_exporter": "python",
   "pygments_lexer": "ipython3",
   "version": "3.9.6"
  }
 },
 "nbformat": 4,
 "nbformat_minor": 1
}